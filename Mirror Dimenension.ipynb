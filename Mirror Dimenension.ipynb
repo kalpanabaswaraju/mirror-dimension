{
 "cells": [
  {
   "cell_type": "code",
   "execution_count": 7,
   "id": "85a630ee",
   "metadata": {},
   "outputs": [
    {
     "name": "stdout",
     "output_type": "stream",
     "text": [
      "Enter a nameEdyoda\n",
      "Entered name is: Edyoda\n",
      "adoydE\n"
     ]
    }
   ],
   "source": [
    "name = input('Enter a name')\n",
    "print('Entered name is:',name)\n",
    "\n",
    "print(name[::-1])"
   ]
  },
  {
   "cell_type": "code",
   "execution_count": 3,
   "id": "8238fa28",
   "metadata": {},
   "outputs": [
    {
     "name": "stdout",
     "output_type": "stream",
     "text": [
      "Enter a nameEdYoda\n",
      "Entered name is: EdYoda\n",
      "reversed value of EdYoda is E\n",
      "reversed value of EdYoda is dE\n",
      "reversed value of EdYoda is YdE\n",
      "reversed value of EdYoda is oYdE\n",
      "reversed value of EdYoda is doYdE\n",
      "reversed value of EdYoda is adoYdE\n"
     ]
    }
   ],
   "source": [
    "name = input('Enter a name')\n",
    "print('Entered name is:',name)\n",
    "\n",
    "reverse = \"\"\n",
    "for i in name:\n",
    "    reverse = i + reverse\n",
    "    print('reversed value of {} is {}'.format(name, reverse))"
   ]
  },
  {
   "cell_type": "code",
   "execution_count": 7,
   "id": "14ba369a",
   "metadata": {},
   "outputs": [
    {
     "name": "stdout",
     "output_type": "stream",
     "text": [
      "reversed value of EdYoda is adoYdE\n"
     ]
    }
   ],
   "source": [
    "name = \"EdYoda\"\n",
    "reverse = \"\"\n",
    "for i in name:\n",
    "    reverse = i + reverse\n",
    "print('reversed value of {} is {}'.format(name, reverse))"
   ]
  },
  {
   "cell_type": "code",
   "execution_count": null,
   "id": "e358dff7",
   "metadata": {},
   "outputs": [],
   "source": []
  }
 ],
 "metadata": {
  "kernelspec": {
   "display_name": "Python 3 (ipykernel)",
   "language": "python",
   "name": "python3"
  },
  "language_info": {
   "codemirror_mode": {
    "name": "ipython",
    "version": 3
   },
   "file_extension": ".py",
   "mimetype": "text/x-python",
   "name": "python",
   "nbconvert_exporter": "python",
   "pygments_lexer": "ipython3",
   "version": "3.10.0"
  }
 },
 "nbformat": 4,
 "nbformat_minor": 5
}
